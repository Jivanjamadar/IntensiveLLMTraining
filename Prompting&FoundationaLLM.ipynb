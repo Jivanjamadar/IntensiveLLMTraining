{
 "cells": [
  {
   "cell_type": "markdown",
   "id": "06a028ec",
   "metadata": {
    "id": "jkxRSYjzA1oX",
    "papermill": {
     "duration": 0.023892,
     "end_time": "2024-11-13T08:14:27.982894",
     "exception": false,
     "start_time": "2024-11-13T08:14:27.959002",
     "status": "completed"
    },
    "tags": []
   },
   "source": [
    "##### Copyright 2024 Google LLC."
   ]
  },
  {
   "cell_type": "code",
   "execution_count": 1,
   "id": "d9b4086a",
   "metadata": {
    "cellView": "form",
    "execution": {
     "iopub.execute_input": "2024-11-13T08:14:28.024381Z",
     "iopub.status.busy": "2024-11-13T08:14:28.023885Z",
     "iopub.status.idle": "2024-11-13T08:14:28.030366Z",
     "shell.execute_reply": "2024-11-13T08:14:28.029269Z"
    },
    "id": "5u5OZ2ShA3BA",
    "jupyter": {
     "source_hidden": true
    },
    "papermill": {
     "duration": 0.031991,
     "end_time": "2024-11-13T08:14:28.033123",
     "exception": false,
     "start_time": "2024-11-13T08:14:28.001132",
     "status": "completed"
    },
    "tags": []
   },
   "outputs": [],
   "source": [
    "# @title Licensed under the Apache License, Version 2.0 (the \"License\");\n",
    "# you may not use this file except in compliance with the License.\n",
    "# You may obtain a copy of the License at\n",
    "#\n",
    "# https://www.apache.org/licenses/LICENSE-2.0\n",
    "#\n",
    "# Unless required by applicable law or agreed to in writing, software\n",
    "# distributed under the License is distributed on an \"AS IS\" BASIS,\n",
    "# WITHOUT WARRANTIES OR CONDITIONS OF ANY KIND, either express or implied.\n",
    "# See the License for the specific language governing permissions and\n",
    "# limitations under the License."
   ]
  },
  {
   "cell_type": "markdown",
   "id": "42453bfe",
   "metadata": {
    "id": "csNPnkuCobmG",
    "papermill": {
     "duration": 0.017797,
     "end_time": "2024-11-13T08:14:28.069139",
     "exception": false,
     "start_time": "2024-11-13T08:14:28.051342",
     "status": "completed"
    },
    "tags": []
   },
   "source": [
    "# Day 1 - Prompting\n",
    "\n",
    "Welcome to the Kaggle 5-day Generative AI course!\n",
    "\n",
    "This notebook will show you how to get started with the Gemini API and walk you through some of the example prompts and techniques that you can also read about in the Prompting whitepaper. You don't need to read the whitepaper to use this notebook, but the papers will give you some theoretical context and background to complement this interactive notebook.\n",
    "\n",
    "\n",
    "## Before you begin\n",
    "\n",
    "In this notebook, you'll start exploring prompts and prompt parameters using the Python SDK and AI Studio. For some inspiration, you might enjoy exploring some apps that have been built using the Gemini family of models. Here are a few that we like, and we think you will too.\n",
    "\n",
    "* [TextFX](https://textfx.withgoogle.com/) is a suite of AI-powered tools for rappers, made in collaboration with Lupe Fiasco,\n",
    "* [SQL Talk](https://sql-talk-r5gdynozbq-uc.a.run.app/) shows how you can talk directly to a database using the Gemini API,\n",
    "* [NotebookLM](https://notebooklm.google/) uses Gemini models to build your own personal AI research assistant.\n",
    "\n",
    "\n",
    "## For help\n",
    "\n",
    "**Common issues are covered in the [FAQ and troubleshooting guide](https://www.kaggle.com/code/markishere/day-0-troubleshooting-and-faqs).**\n",
    "\n",
    "### A note on the Gemini API and Vertex AI\n",
    "\n",
    "In the whitepapers, most of the example code uses the Enterprise [Vertex AI platform](https://cloud.google.com/vertex-ai). In contrast, this notebook, along with the others in this series, will use the [Gemini Developer API](https://ai.google.dev/gemini-api/) and [AI Studio](https://aistudio.google.com/).\n",
    "\n",
    "Both APIs provide access to the Gemini family of models, and the code to interact with the models is very similar. Vertex provides a world-class platform for enterprises, governments and advanced users that need powerful features like data governance, ML ops and deep Google Cloud integration.\n",
    "\n",
    "AI Studio is free to use and only requires a compatible Google account to log in and get started. It is deeply integrated with the Gemini API, which comes with a generous [free tier](https://ai.google.dev/pricing) that you can use to run the code in these exercises.\n",
    "\n",
    "If you are already set up with Google Cloud, you can check out the [Enterprise Gemini API](https://cloud.google.com/vertex-ai/generative-ai/docs/model-reference/inference) through Vertex AI, and run the samples directly from the supplied whitepapers."
   ]
  },
  {
   "attachments": {
    "d8299597-f771-4195-ac94-1d6f658ef2bd.png": {
     "image/png": "[encoded data removed]"
    },
    "ed25e346-2e15-4ab0-bc22-503eb1845e66.png": {
     "image/png": "[encoded data removed]"
    }
   },
   "cell_type": "markdown",
   "id": "7e6b9e36",
   "metadata": {
    "id": "f00ea7c99e44",
    "papermill": {
     "duration": 0.017758,
     "end_time": "2024-11-13T08:14:28.104517",
     "exception": false,
     "start_time": "2024-11-13T08:14:28.086759",
     "status": "completed"
    },
    "tags": []
   },
   "source": [
    "## Get started with Kaggle notebooks\n",
    "\n",
    "If this is your first time using a Kaggle notebook, welcome! You can read about how to use Kaggle notebooks [in the docs](https://www.kaggle.com/docs/notebooks).\n",
    "\n",
    "First, you will need to phone verify your account at kaggle.com/settings.\n",
    "\n",
    "![](https://storage.googleapis.com/kaggle-media/Images/5dgai_0.png)"
   ]
  },
  {
   "cell_type": "markdown",
   "id": "f984e919",
   "metadata": {
    "papermill": {
     "duration": 0.017257,
     "end_time": "2024-11-13T08:14:28.141304",
     "exception": false,
     "start_time": "2024-11-13T08:14:28.124047",
     "status": "completed"
    },
    "tags": []
   },
   "source": [
    "To run this notebook, as well as the others in this course, you will need to make a copy, or fork, the notebook. Look for the `Copy and Edit` button in the top-right, and **click it** to make an editable, private copy of the notebook. It should look like this one:\n",
    "\n",
    "![Copy and Edit button](https://storage.googleapis.com/kaggle-media/Images/5gdai_sc_1.png)\n",
    "\n",
    "Your copy will now have a ▶️ **Run** button next to each code cell that you can press to execute that cell. These notebooks are expected to be run in order from top-to-bottom, but you are encouraged to add new cells, run your own code and explore. If you get stuck, you can try the `Factory reset` option in the `Run` menu, or head back to the original notebook and make a fresh copy.\n",
    "\n",
    "![Run cell button](https://storage.googleapis.com/kaggle-media/Images/5gdai_sc_2.png)\n",
    "\n",
    "### Problems?\n",
    "\n",
    "If you have any problems, head over to the [Kaggle Discord](https://discord.com/invite/kaggle), find the [`#5dgai-q-and-a` channel](https://discord.com/channels/1101210829807956100/1303438695143178251) and ask for help."
   ]
  },
  {
   "cell_type": "markdown",
   "id": "969ae8a3",
   "metadata": {
    "id": "ExkOXcPxtTb5",
    "papermill": {
     "duration": 0.0172,
     "end_time": "2024-11-13T08:14:28.176051",
     "exception": false,
     "start_time": "2024-11-13T08:14:28.158851",
     "status": "completed"
    },
    "tags": []
   },
   "source": [
    "## Get started with the Gemini API\n",
    "\n",
    "All of the exercises in this notebook will use the [Gemini API](https://ai.google.dev/gemini-api/) by way of the [Python SDK](https://pypi.org/project/google-generativeai/). Each of these prompts can be accessed directly in [Google AI Studio](https://aistudio.google.com/) too, so if you would rather use a web interface and skip the code for this activity, look for the <img src=\"https://ai.google.dev/site-assets/images/marketing/home/icon-ais.png\" style=\"height: 24px\" height=24/> AI Studio link on each prompt."
   ]
  },
  {
   "cell_type": "markdown",
   "id": "a5f85952",
   "metadata": {
    "papermill": {
     "duration": 0.017164,
     "end_time": "2024-11-13T08:14:28.210781",
     "exception": false,
     "start_time": "2024-11-13T08:14:28.193617",
     "status": "completed"
    },
    "tags": []
   },
   "source": [
    "Next, you will need to add your API key to your Kaggle Notebook as a Kaggle User Secret.\n",
    "\n",
    "![](https://storage.googleapis.com/kaggle-media/Images/5dgai_1.png)\n",
    "![](https://storage.googleapis.com/kaggle-media/Images/5dgai_2.png)\n",
    "![](https://storage.googleapis.com/kaggle-media/Images/5dgai_3.png)\n",
    "![](https://storage.googleapis.com/kaggle-media/Images/5dgai_4.png)"
   ]
  },
  {
   "cell_type": "markdown",
   "id": "26a36a6c",
   "metadata": {
    "id": "UAjUV3BsvFXQ",
    "papermill": {
     "duration": 0.01763,
     "end_time": "2024-11-13T08:14:28.245999",
     "exception": false,
     "start_time": "2024-11-13T08:14:28.228369",
     "status": "completed"
    },
    "tags": []
   },
   "source": [
    "### Install the SDK"
   ]
  },
  {
   "cell_type": "code",
   "execution_count": 2,
   "id": "3a35384e",
   "metadata": {
    "execution": {
     "iopub.execute_input": "2024-11-13T08:14:28.284061Z",
     "iopub.status.busy": "2024-11-13T08:14:28.283608Z",
     "iopub.status.idle": "2024-11-13T08:14:59.317715Z",
     "shell.execute_reply": "2024-11-13T08:14:59.316335Z"
    },
    "id": "NzwzJFU9LqkJ",
    "papermill": {
     "duration": 31.078602,
     "end_time": "2024-11-13T08:14:59.342995",
     "exception": false,
     "start_time": "2024-11-13T08:14:28.264393",
     "status": "completed"
    },
    "tags": []
   },
   "outputs": [
    {
     "name": "stdout",
     "output_type": "stream",
     "text": [
      "Note: you may need to restart the kernel to use updated packages.\n"
     ]
    }
   ],
   "source": [
    "%pip install -U -q \"google-generativeai>=0.8.3\""
   ]
  },
  {
   "cell_type": "code",
   "execution_count": 3,
   "id": "1f49b4ef",
   "metadata": {
    "execution": {
     "iopub.execute_input": "2024-11-13T08:14:59.381214Z",
     "iopub.status.busy": "2024-11-13T08:14:59.379945Z",
     "iopub.status.idle": "2024-11-13T08:15:00.556445Z",
     "shell.execute_reply": "2024-11-13T08:15:00.555221Z"
    },
    "id": "5DwxYIRavMST",
    "papermill": {
     "duration": 1.198932,
     "end_time": "2024-11-13T08:15:00.559521",
     "exception": false,
     "start_time": "2024-11-13T08:14:59.360589",
     "status": "completed"
    },
    "tags": []
   },
   "outputs": [],
   "source": [
    "import google.generativeai as genai\n",
    "from IPython.display import HTML, Markdown, display"
   ]
  },
  {
   "cell_type": "markdown",
   "id": "a4e479c0",
   "metadata": {
    "id": "DNEt2BCOvOJ1",
    "papermill": {
     "duration": 0.017368,
     "end_time": "2024-11-13T08:15:00.594980",
     "exception": false,
     "start_time": "2024-11-13T08:15:00.577612",
     "status": "completed"
    },
    "tags": []
   },
   "source": [
    "### Set up your API key\n",
    "\n",
    "To run the following cell, your API key must be stored it in a [Kaggle secret](https://www.kaggle.com/discussions/product-feedback/114053) named `GOOGLE_API_KEY`.\n",
    "\n",
    "If you don't already have an API key, you can grab one from [AI Studio](https://aistudio.google.com/app/apikey). You can find [detailed instructions in the docs](https://ai.google.dev/gemini-api/docs/api-key).\n",
    "\n",
    "To make the key available through Kaggle secrets, choose `Secrets` from the `Add-ons` menu and follow the instructions to add your key or enable it for this notebook."
   ]
  },
  {
   "cell_type": "code",
   "execution_count": 4,
   "id": "4bf456c5",
   "metadata": {
    "execution": {
     "iopub.execute_input": "2024-11-13T08:15:00.632634Z",
     "iopub.status.busy": "2024-11-13T08:15:00.631733Z",
     "iopub.status.idle": "2024-11-13T08:15:00.836172Z",
     "shell.execute_reply": "2024-11-13T08:15:00.835118Z"
    },
    "id": "SHl0bkPCvayd",
    "papermill": {
     "duration": 0.226441,
     "end_time": "2024-11-13T08:15:00.839004",
     "exception": false,
     "start_time": "2024-11-13T08:15:00.612563",
     "status": "completed"
    },
    "tags": []
   },
   "outputs": [],
   "source": [
    "from kaggle_secrets import UserSecretsClient\n",
    "\n",
    "GOOGLE_API_KEY = UserSecretsClient().get_secret(\"GOOGLE_API_KEY\")\n",
    "genai.configure(api_key=GOOGLE_API_KEY)"
   ]
  },
  {
   "attachments": {
    "d2be9aab-2527-48af-b6cf-1f06cdd7c3a7.png": {
     "image/png": "[encoded data removed]"
    }
   },
   "cell_type": "markdown",
   "id": "07534bd7",
   "metadata": {
    "id": "4e720472fd86",
    "papermill": {
     "duration": 0.017216,
     "end_time": "2024-11-13T08:15:00.873767",
     "exception": false,
     "start_time": "2024-11-13T08:15:00.856551",
     "status": "completed"
    },
    "tags": []
   },
   "source": [
    "If you received an error response along the lines of `No user secrets exist for kernel id ...`, then you need to add your API key via `Add-ons`, `Secrets` **and** enable it.\n",
    "\n",
    "![Screenshot of the checkbox to enable GOOGLE_API_KEY secret](https://storage.googleapis.com/kaggle-media/Images/5gdai_sc_3.png)"
   ]
  },
  {
   "cell_type": "markdown",
   "id": "295135ff",
   "metadata": {
    "id": "H_YXCYIKvyZJ",
    "papermill": {
     "duration": 0.017375,
     "end_time": "2024-11-13T08:15:00.908686",
     "exception": false,
     "start_time": "2024-11-13T08:15:00.891311",
     "status": "completed"
    },
    "tags": []
   },
   "source": [
    "### Run your first prompt\n",
    "\n",
    "In this step, you will test that your API key is set up correctly by making a request. The `gemini-1.5-flash` model has been selected here."
   ]
  },
  {
   "cell_type": "code",
   "execution_count": 5,
   "id": "54bd4503",
   "metadata": {
    "execution": {
     "iopub.execute_input": "2024-11-13T08:15:00.945486Z",
     "iopub.status.busy": "2024-11-13T08:15:00.945031Z",
     "iopub.status.idle": "2024-11-13T08:15:02.467739Z",
     "shell.execute_reply": "2024-11-13T08:15:02.466409Z"
    },
    "id": "BV1o0PmcvyJF",
    "papermill": {
     "duration": 1.544372,
     "end_time": "2024-11-13T08:15:02.470594",
     "exception": false,
     "start_time": "2024-11-13T08:15:00.926222",
     "status": "completed"
    },
    "tags": []
   },
   "outputs": [
    {
     "name": "stdout",
     "output_type": "stream",
     "text": [
      "Imagine you have a really smart robot friend who can learn new things just like you! That robot friend is called AI, which stands for Artificial Intelligence. \n",
      "\n",
      "AI is like a super-powered computer that can do things like:\n",
      "\n",
      "* **Play games:** Your AI friend can play games like chess or video games and even get better at them over time!\n",
      "* **Answer questions:**  You can ask your AI friend questions and it will try to find the answer for you, just like a helpful teacher.\n",
      "* **Recognize things:** AI can look at pictures and tell you what they are, like if it's a cat, a dog, or a flower.\n",
      "* **Help with tasks:** AI can help you write emails, translate languages, or even write stories!\n",
      "\n",
      "AI is still learning and getting smarter all the time, just like you! It's a really exciting technology that can help us do amazing things in the future.\n",
      "\n"
     ]
    }
   ],
   "source": [
    "flash = genai.GenerativeModel('gemini-1.5-flash')\n",
    "response = flash.generate_content(\"Explain AI to me like I'm a kid.\")\n",
    "print(response.text)"
   ]
  },
  {
   "cell_type": "markdown",
   "id": "53551fcc",
   "metadata": {
    "id": "f60ed9d8ae41",
    "papermill": {
     "duration": 0.018196,
     "end_time": "2024-11-13T08:15:02.507245",
     "exception": false,
     "start_time": "2024-11-13T08:15:02.489049",
     "status": "completed"
    },
    "tags": []
   },
   "source": [
    "The response often comes back in markdown format, which you can render directly in this notebook."
   ]
  },
  {
   "cell_type": "code",
   "execution_count": 6,
   "id": "b49da124",
   "metadata": {
    "execution": {
     "iopub.execute_input": "2024-11-13T08:15:02.544578Z",
     "iopub.status.busy": "2024-11-13T08:15:02.544115Z",
     "iopub.status.idle": "2024-11-13T08:15:02.553717Z",
     "shell.execute_reply": "2024-11-13T08:15:02.552497Z"
    },
    "id": "c933e5e460a5",
    "papermill": {
     "duration": 0.031204,
     "end_time": "2024-11-13T08:15:02.556193",
     "exception": false,
     "start_time": "2024-11-13T08:15:02.524989",
     "status": "completed"
    },
    "tags": []
   },
   "outputs": [
    {
     "data": {
      "text/markdown": [
       "Imagine you have a really smart robot friend who can learn new things just like you! That robot friend is called AI, which stands for Artificial Intelligence. \n",
       "\n",
       "AI is like a super-powered computer that can do things like:\n",
       "\n",
       "* **Play games:** Your AI friend can play games like chess or video games and even get better at them over time!\n",
       "* **Answer questions:**  You can ask your AI friend questions and it will try to find the answer for you, just like a helpful teacher.\n",
       "* **Recognize things:** AI can look at pictures and tell you what they are, like if it's a cat, a dog, or a flower.\n",
       "* **Help with tasks:** AI can help you write emails, translate languages, or even write stories!\n",
       "\n",
       "AI is still learning and getting smarter all the time, just like you! It's a really exciting technology that can help us do amazing things in the future.\n"
      ],
      "text/plain": [
       "<IPython.core.display.Markdown object>"
      ]
     },
     "execution_count": 6,
     "metadata": {},
     "output_type": "execute_result"
    }
   ],
   "source": [
    "Markdown(response.text)"
   ]
  },
  {
   "cell_type": "markdown",
   "id": "ba820a24",
   "metadata": {
    "id": "byx0pT9ZMW2Q",
    "papermill": {
     "duration": 0.018057,
     "end_time": "2024-11-13T08:15:02.592319",
     "exception": false,
     "start_time": "2024-11-13T08:15:02.574262",
     "status": "completed"
    },
    "tags": []
   },
   "source": [
    "### Start a chat\n",
    "\n",
    "The previous example uses a single-turn, text-in/text-out structure, but you can also set up a multi-turn chat structure too."
   ]
  },
  {
   "cell_type": "code",
   "execution_count": 7,
   "id": "1c6753a5",
   "metadata": {
    "execution": {
     "iopub.execute_input": "2024-11-13T08:15:02.630403Z",
     "iopub.status.busy": "2024-11-13T08:15:02.629958Z",
     "iopub.status.idle": "2024-11-13T08:15:03.254804Z",
     "shell.execute_reply": "2024-11-13T08:15:03.253568Z"
    },
    "id": "lV_S5ZL5MidD",
    "papermill": {
     "duration": 0.647267,
     "end_time": "2024-11-13T08:15:03.257641",
     "exception": false,
     "start_time": "2024-11-13T08:15:02.610374",
     "status": "completed"
    },
    "tags": []
   },
   "outputs": [
    {
     "name": "stdout",
     "output_type": "stream",
     "text": [
      "Hello Zlork! It's nice to meet you. 😊 What can I do for you today? \n",
      "\n"
     ]
    }
   ],
   "source": [
    "chat = flash.start_chat(history=[])\n",
    "response = chat.send_message('Hello! My name is Zlork.')\n",
    "print(response.text)"
   ]
  },
  {
   "cell_type": "code",
   "execution_count": 8,
   "id": "57a350e0",
   "metadata": {
    "execution": {
     "iopub.execute_input": "2024-11-13T08:15:03.298098Z",
     "iopub.status.busy": "2024-11-13T08:15:03.297044Z",
     "iopub.status.idle": "2024-11-13T08:15:04.165059Z",
     "shell.execute_reply": "2024-11-13T08:15:04.163586Z"
    },
    "id": "7b0372c3c64a",
    "papermill": {
     "duration": 0.891866,
     "end_time": "2024-11-13T08:15:04.167980",
     "exception": false,
     "start_time": "2024-11-13T08:15:03.276114",
     "status": "completed"
    },
    "tags": []
   },
   "outputs": [
    {
     "name": "stdout",
     "output_type": "stream",
     "text": [
      "Did you know that the largest land predator ever known, **Spinosaurus**, was actually a fish-eating dinosaur? It had a massive sail on its back and crocodile-like jaws, making it a fearsome hunter in the swamps and rivers of ancient North Africa. \n",
      "\n",
      "It's amazing how much we've learned about dinosaurs, and there's still so much more to discover! What kind of dinosaur facts are you interested in learning more about?  \n",
      "\n"
     ]
    }
   ],
   "source": [
    "response = chat.send_message('Can you tell something interesting about dinosaurs?')\n",
    "print(response.text)"
   ]
  },
  {
   "cell_type": "code",
   "execution_count": 9,
   "id": "8fcc6331",
   "metadata": {
    "execution": {
     "iopub.execute_input": "2024-11-13T08:15:04.208188Z",
     "iopub.status.busy": "2024-11-13T08:15:04.207119Z",
     "iopub.status.idle": "2024-11-13T08:15:04.852353Z",
     "shell.execute_reply": "2024-11-13T08:15:04.850823Z"
    },
    "id": "d3f9591392a7",
    "papermill": {
     "duration": 0.667998,
     "end_time": "2024-11-13T08:15:04.855078",
     "exception": false,
     "start_time": "2024-11-13T08:15:04.187080",
     "status": "completed"
    },
    "tags": []
   },
   "outputs": [
    {
     "name": "stdout",
     "output_type": "stream",
     "text": [
      "Of course!  You are Zlork.  I remember our first encounter. 😊  Is there anything else you'd like to talk about? \n",
      "\n"
     ]
    }
   ],
   "source": [
    "# While you have the `chat` object around, the conversation state\n",
    "# persists. Confirm that by asking if it knows my name.\n",
    "response = chat.send_message('Do you remember what my name is?')\n",
    "print(response.text)"
   ]
  },
  {
   "cell_type": "markdown",
   "id": "955f552f",
   "metadata": {
    "id": "2KAjpr1200sW",
    "papermill": {
     "duration": 0.018795,
     "end_time": "2024-11-13T08:15:04.892402",
     "exception": false,
     "start_time": "2024-11-13T08:15:04.873607",
     "status": "completed"
    },
    "tags": []
   },
   "source": [
    "### Choose a model\n",
    "\n",
    "The Gemini API provides access to a number of models from the Gemini model family. Read about the available models and their capabilities on the [model overview page](https://ai.google.dev/gemini-api/docs/models/gemini).\n",
    "\n",
    "In this step you'll use the API to list all of the available models."
   ]
  },
  {
   "cell_type": "code",
   "execution_count": 10,
   "id": "260079ff",
   "metadata": {
    "execution": {
     "iopub.execute_input": "2024-11-13T08:15:04.931421Z",
     "iopub.status.busy": "2024-11-13T08:15:04.930985Z",
     "iopub.status.idle": "2024-11-13T08:15:05.303654Z",
     "shell.execute_reply": "2024-11-13T08:15:05.302176Z"
    },
    "id": "uUUZa2uq2jDm",
    "papermill": {
     "duration": 0.395628,
     "end_time": "2024-11-13T08:15:05.306633",
     "exception": false,
     "start_time": "2024-11-13T08:15:04.911005",
     "status": "completed"
    },
    "tags": []
   },
   "outputs": [
    {
     "name": "stdout",
     "output_type": "stream",
     "text": [
      "models/chat-bison-001\n",
      "models/text-bison-001\n",
      "models/embedding-gecko-001\n",
      "models/gemini-1.0-pro-latest\n",
      "models/gemini-1.0-pro\n",
      "models/gemini-pro\n",
      "models/gemini-1.0-pro-001\n",
      "models/gemini-1.0-pro-vision-latest\n",
      "models/gemini-pro-vision\n",
      "models/gemini-1.5-pro-latest\n",
      "models/gemini-1.5-pro-001\n",
      "models/gemini-1.5-pro-002\n",
      "models/gemini-1.5-pro\n",
      "models/gemini-1.5-pro-exp-0801\n",
      "models/gemini-1.5-pro-exp-0827\n",
      "models/gemini-1.5-flash-latest\n",
      "models/gemini-1.5-flash-001\n",
      "models/gemini-1.5-flash-001-tuning\n",
      "models/gemini-1.5-flash\n",
      "models/gemini-1.5-flash-exp-0827\n",
      "models/gemini-1.5-flash-002\n",
      "models/gemini-1.5-flash-8b\n",
      "models/gemini-1.5-flash-8b-001\n",
      "models/gemini-1.5-flash-8b-latest\n",
      "models/gemini-1.5-flash-8b-exp-0827\n",
      "models/gemini-1.5-flash-8b-exp-0924\n",
      "models/embedding-001\n",
      "models/text-embedding-004\n",
      "models/aqa\n"
     ]
    }
   ],
   "source": [
    "for model in genai.list_models():\n",
    "  print(model.name)"
   ]
  },
  {
   "cell_type": "markdown",
   "id": "cd1625a8",
   "metadata": {
    "id": "rN49kSI54R1v",
    "papermill": {
     "duration": 0.018499,
     "end_time": "2024-11-13T08:15:05.343979",
     "exception": false,
     "start_time": "2024-11-13T08:15:05.325480",
     "status": "completed"
    },
    "tags": []
   },
   "source": [
    "The [`models.list`](https://ai.google.dev/api/models#method:-models.list) response also returns additional information about the model's capabilities, like the token limits and supported parameters."
   ]
  },
  {
   "cell_type": "code",
   "execution_count": 11,
   "id": "e1d51539",
   "metadata": {
    "execution": {
     "iopub.execute_input": "2024-11-13T08:15:05.382856Z",
     "iopub.status.busy": "2024-11-13T08:15:05.382383Z",
     "iopub.status.idle": "2024-11-13T08:15:05.513887Z",
     "shell.execute_reply": "2024-11-13T08:15:05.512368Z"
    },
    "id": "k7JJ1K6j4Rl8",
    "papermill": {
     "duration": 0.154404,
     "end_time": "2024-11-13T08:15:05.516941",
     "exception": false,
     "start_time": "2024-11-13T08:15:05.362537",
     "status": "completed"
    },
    "tags": []
   },
   "outputs": [
    {
     "name": "stdout",
     "output_type": "stream",
     "text": [
      "Model(name='models/gemini-1.5-flash',\n",
      "      base_model_id='',\n",
      "      version='001',\n",
      "      display_name='Gemini 1.5 Flash',\n",
      "      description='Fast and versatile multimodal model for scaling across diverse tasks',\n",
      "      input_token_limit=1000000,\n",
      "      output_token_limit=8192,\n",
      "      supported_generation_methods=['generateContent', 'countTokens'],\n",
      "      temperature=1.0,\n",
      "      max_temperature=2.0,\n",
      "      top_p=0.95,\n",
      "      top_k=40)\n"
     ]
    }
   ],
   "source": [
    "for model in genai.list_models():\n",
    "  if model.name == 'models/gemini-1.5-flash':\n",
    "    print(model)\n",
    "    break"
   ]
  },
  {
   "cell_type": "markdown",
   "id": "e50c7b28",
   "metadata": {
    "id": "5rU_UBlZdooM",
    "papermill": {
     "duration": 0.018664,
     "end_time": "2024-11-13T08:15:05.554661",
     "exception": false,
     "start_time": "2024-11-13T08:15:05.535997",
     "status": "completed"
    },
    "tags": []
   },
   "source": [
    "## Explore generation parameters\n",
    "\n"
   ]
  },
  {
   "cell_type": "markdown",
   "id": "705726d4",
   "metadata": {
    "id": "G7NfEizeipbW",
    "papermill": {
     "duration": 0.018413,
     "end_time": "2024-11-13T08:15:05.591852",
     "exception": false,
     "start_time": "2024-11-13T08:15:05.573439",
     "status": "completed"
    },
    "tags": []
   },
   "source": [
    "### Output length\n",
    "\n",
    "When generating text with an LLM, the output length affects cost and performance. Generating more tokens increases computation, leading to higher energy consumption, latency, and cost.\n",
    "\n",
    "To stop the model from generating tokens past a limit, you can specify the `max_output_tokens` parameter when using the Gemini API. Specifying this parameter does not influence the generation of the output tokens, so the output will not become more stylistically or textually succinct, but it will stop generating tokens once the specified length is reached. Prompt engineering may be required to generate a more complete output for your given limit."
   ]
  },
  {
   "cell_type": "code",
   "execution_count": 12,
   "id": "c6600bff",
   "metadata": {
    "execution": {
     "iopub.execute_input": "2024-11-13T08:15:05.631317Z",
     "iopub.status.busy": "2024-11-13T08:15:05.630833Z",
     "iopub.status.idle": "2024-11-13T08:15:06.872465Z",
     "shell.execute_reply": "2024-11-13T08:15:06.871237Z"
    },
    "id": "qVf23JsIi9ma",
    "papermill": {
     "duration": 1.264721,
     "end_time": "2024-11-13T08:15:06.875212",
     "exception": false,
     "start_time": "2024-11-13T08:15:05.610491",
     "status": "completed"
    },
    "tags": []
   },
   "outputs": [
    {
     "name": "stdout",
     "output_type": "stream",
     "text": [
      "## The Olive: A Timeless Treasure in Modern Society\n",
      "\n",
      "The olive tree, a symbol of longevity, peace, and wisdom, has been entwined with human civilization for millennia. From its humble beginnings as a source of sustenance in the Mediterranean basin, the olive has transcended its agricultural roots to become a cornerstone of modern society, impacting everything from culinary practices to environmental sustainability and global trade. \n",
      "\n",
      "The importance of olives in modern society cannot be overstated. Beyond their simple role as a food source, they contribute to a diverse spectrum of industries, cultures, and economies, leaving an indelible mark on our present and future.\n",
      "\n",
      "**A Culinary Cornerstone:**\n",
      "\n",
      "Olives, in their various forms, have long been an integral part of the Mediterranean diet, celebrated for their nutritional value and distinctive flavor. They are a rich source of healthy fats, antioxidants, and vitamins, contributing to heart health, reduced inflammation, and improved brain function. Their versatility allows them to be enjoyed fresh, cured, pickled,\n"
     ]
    }
   ],
   "source": [
    "short_model = genai.GenerativeModel(\n",
    "    'gemini-1.5-flash',\n",
    "    generation_config=genai.GenerationConfig(max_output_tokens=200))\n",
    "\n",
    "response = short_model.generate_content('Write a 1000 word essay on the importance of olives in modern society.')\n",
    "print(response.text)"
   ]
  },
  {
   "cell_type": "code",
   "execution_count": 13,
   "id": "219bd921",
   "metadata": {
    "execution": {
     "iopub.execute_input": "2024-11-13T08:15:06.915750Z",
     "iopub.status.busy": "2024-11-13T08:15:06.914762Z",
     "iopub.status.idle": "2024-11-13T08:15:08.053459Z",
     "shell.execute_reply": "2024-11-13T08:15:08.052127Z"
    },
    "id": "W-3kR2F5kdMR",
    "papermill": {
     "duration": 1.161622,
     "end_time": "2024-11-13T08:15:08.056102",
     "exception": false,
     "start_time": "2024-11-13T08:15:06.894480",
     "status": "completed"
    },
    "tags": []
   },
   "outputs": [
    {
     "name": "stdout",
     "output_type": "stream",
     "text": [
      "A tiny fruit, a verdant sphere,\n",
      "A Mediterranean treasure, held so dear.\n",
      "From olive groves, a bounty grows,\n",
      "A liquid gold, that softly flows.\n",
      "\n",
      "In kitchens bright, it lends its taste,\n",
      "To savory dishes, both old and paced.\n",
      "On tables spread, a vibrant hue,\n",
      "A symbol of health, for me and you.\n",
      "\n",
      "From olive oil, a symphony of light,\n",
      "A healthy heart, with joy takes flight.\n",
      "So raise a glass, to this humble tree,\n",
      "For olives' grace, for all to see. \n",
      "\n"
     ]
    }
   ],
   "source": [
    "response = short_model.generate_content('Write a short poem on the importance of olives in modern society.')\n",
    "print(response.text)"
   ]
  },
  {
   "cell_type": "markdown",
   "id": "8807bb50",
   "metadata": {
    "id": "3ZhDSLB6lqqB",
    "papermill": {
     "duration": 0.01879,
     "end_time": "2024-11-13T08:15:08.093884",
     "exception": false,
     "start_time": "2024-11-13T08:15:08.075094",
     "status": "completed"
    },
    "tags": []
   },
   "source": [
    "Explore with your own prompts. Try a prompt with a restrictive output limit and then adjust the prompt to work within that limit."
   ]
  },
  {
   "cell_type": "markdown",
   "id": "f2a67882",
   "metadata": {
    "id": "alx-WaAvir_9",
    "papermill": {
     "duration": 0.018445,
     "end_time": "2024-11-13T08:15:08.131806",
     "exception": false,
     "start_time": "2024-11-13T08:15:08.113361",
     "status": "completed"
    },
    "tags": []
   },
   "source": [
    "### Temperature\n",
    "\n",
    "Temperature controls the degree of randomness in token selection. Higher temperatures result in a higher number of candidate tokens from which the next output token is selected, and can produce more diverse results, while lower temperatures have the opposite effect, such that a temperature of 0 results in greedy decoding, selecting the most probable token at each step.\n",
    "\n",
    "Temperature doesn't provide any guarantees of randomness, but it can be used to \"nudge\" the output somewhat.\n",
    "\n",
    "**Note that if you see a 429 Resource Exhausted error here, you may be able to tweak the prompt slightly to progress.**"
   ]
  },
  {
   "cell_type": "code",
   "execution_count": 14,
   "id": "45fe2d12",
   "metadata": {
    "execution": {
     "iopub.execute_input": "2024-11-13T08:15:08.173290Z",
     "iopub.status.busy": "2024-11-13T08:15:08.172840Z",
     "iopub.status.idle": "2024-11-13T08:15:09.873640Z",
     "shell.execute_reply": "2024-11-13T08:15:09.872113Z"
    },
    "id": "SHraGMzqnZqt",
    "papermill": {
     "duration": 1.724048,
     "end_time": "2024-11-13T08:15:09.876135",
     "exception": false,
     "start_time": "2024-11-13T08:15:08.152087",
     "status": "completed"
    },
    "tags": []
   },
   "outputs": [
    {
     "name": "stdout",
     "output_type": "stream",
     "text": [
      "Blue. \n",
      " -------------------------\n",
      "Purple \n",
      " -------------------------\n",
      "Blue \n",
      " -------------------------\n",
      "Purple. \n",
      " -------------------------\n",
      "Blue \n",
      " -------------------------\n"
     ]
    }
   ],
   "source": [
    "from google.api_core import retry\n",
    "\n",
    "high_temp_model = genai.GenerativeModel(\n",
    "    'gemini-1.5-flash',\n",
    "    generation_config=genai.GenerationConfig(temperature=2.0))\n",
    "\n",
    "\n",
    "# When running lots of queries, it's a good practice to use a retry policy so your code\n",
    "# automatically retries when hitting Resource Exhausted (quota limit) errors.\n",
    "retry_policy = {\n",
    "    \"retry\": retry.Retry(predicate=retry.if_transient_error, initial=10, multiplier=1.5, timeout=300)\n",
    "}\n",
    "\n",
    "for _ in range(5):\n",
    "  response = high_temp_model.generate_content('Pick a random colour... (respond in a single word)',\n",
    "                                              request_options=retry_policy)\n",
    "  if response.parts:\n",
    "    print(response.text, '-' * 25)"
   ]
  },
  {
   "cell_type": "markdown",
   "id": "3e1fdced",
   "metadata": {
    "id": "z3J4pCTuof7e",
    "papermill": {
     "duration": 0.020001,
     "end_time": "2024-11-13T08:15:09.916007",
     "exception": false,
     "start_time": "2024-11-13T08:15:09.896006",
     "status": "completed"
    },
    "tags": []
   },
   "source": [
    "Now try the same prompt with temperature set to zero. Note that the output is not completely deterministic, as other parameters affect token selection, but the results will tend to be more stable."
   ]
  },
  {
   "cell_type": "code",
   "execution_count": 15,
   "id": "832edf35",
   "metadata": {
    "execution": {
     "iopub.execute_input": "2024-11-13T08:15:09.957857Z",
     "iopub.status.busy": "2024-11-13T08:15:09.957371Z",
     "iopub.status.idle": "2024-11-13T08:15:24.437534Z",
     "shell.execute_reply": "2024-11-13T08:15:24.436040Z"
    },
    "id": "clymkWv-PfUZ",
    "papermill": {
     "duration": 14.504798,
     "end_time": "2024-11-13T08:15:24.440364",
     "exception": false,
     "start_time": "2024-11-13T08:15:09.935566",
     "status": "completed"
    },
    "tags": []
   },
   "outputs": [
    {
     "name": "stdout",
     "output_type": "stream",
     "text": [
      "Purple \n",
      " -------------------------\n",
      "Purple \n",
      " -------------------------\n",
      "Purple \n",
      " -------------------------\n",
      "Purple \n",
      " -------------------------\n",
      "Purple \n",
      " -------------------------\n"
     ]
    }
   ],
   "source": [
    "low_temp_model = genai.GenerativeModel(\n",
    "    'gemini-1.5-flash',\n",
    "    generation_config=genai.GenerationConfig(temperature=0.0))\n",
    "\n",
    "for _ in range(5):\n",
    "  response = low_temp_model.generate_content('Pick a random colour... (respond in a single word)',\n",
    "                                             request_options=retry_policy)\n",
    "  if response.parts:\n",
    "    print(response.text, '-' * 25)"
   ]
  },
  {
   "cell_type": "markdown",
   "id": "c23c1045",
   "metadata": {
    "id": "St5nt3vzitsZ",
    "papermill": {
     "duration": 0.020209,
     "end_time": "2024-11-13T08:15:24.480864",
     "exception": false,
     "start_time": "2024-11-13T08:15:24.460655",
     "status": "completed"
    },
    "tags": []
   },
   "source": [
    "### Top-K and top-P\n",
    "\n",
    "Like temperature, top-K and top-P parameters are also used to control the diversity of the model's output.\n",
    "\n",
    "Top-K is a positive integer that defines the number of most probable tokens from which to select the output token. A top-K of 1 selects a single token, performing greedy decoding.\n",
    "\n",
    "Top-P defines the probability threshold that, once cumulatively exceeded, tokens stop being selected as candidates. A top-P of 0 is typically equivalent to greedy decoding, and a top-P of 1 typically selects every token in the model's vocabulary.\n",
    "\n",
    "When both are supplied, the Gemini API will filter top-K tokens first, then top-P and then finally sample from the candidate tokens using the supplied temperature.\n",
    "\n",
    "Run this example a number of times, change the settings and observe the change in output."
   ]
  },
  {
   "cell_type": "code",
   "execution_count": 16,
   "id": "4f45acb1",
   "metadata": {
    "execution": {
     "iopub.execute_input": "2024-11-13T08:15:24.523582Z",
     "iopub.status.busy": "2024-11-13T08:15:24.523102Z",
     "iopub.status.idle": "2024-11-13T08:15:38.287816Z",
     "shell.execute_reply": "2024-11-13T08:15:38.286487Z"
    },
    "id": "lPlzpEavUV8F",
    "papermill": {
     "duration": 13.789594,
     "end_time": "2024-11-13T08:15:38.290652",
     "exception": false,
     "start_time": "2024-11-13T08:15:24.501058",
     "status": "completed"
    },
    "tags": []
   },
   "outputs": [
    {
     "name": "stdout",
     "output_type": "stream",
     "text": [
      "Jasper, a sleek black cat with eyes like polished emeralds, was bored. The sunbeams slanting through the window were becoming monotonous, the bird twittering outside the window a predictable melody. He yearned for something more, something...adventurous.\n",
      "\n",
      "One afternoon, while his human was out, Jasper decided to take matters into his own paws. He'd seen the mailman, a friendly giant in a red uniform, coming and going, and a strange curiosity had seized him. He slipped through the cat flap and padded across the garden, his tail twitching with anticipation.\n",
      "\n",
      "The mailman, Mr. Higgins, was just pushing a large, brightly colored box into his truck. Jasper, emboldened by his bravery, leaped onto the box. He was immediately overwhelmed by the aroma of new things, a heady mix of paper and ink, that made him purr with delight.\n",
      "\n",
      "The truck rumbled to life and Jasper found himself on a journey. He watched the world whizz by, the houses and trees blurring into a kaleidoscope of colors. His purr grew into a rumbling meow, excitement bubbling in his chest.\n",
      "\n",
      "Mr. Higgins stopped at a bustling marketplace. Jasper, using the box as his perch, surveyed the scene. People bustled around, their voices a cacophony, their faces a mixture of excitement and urgency. He saw a little girl with bright red pigtails clutching a fluffy white bunny, and a man selling fresh fruit with a booming voice.\n",
      "\n",
      "Suddenly, the little girl's bunny wiggled free and hopped into the street. The girl, distraught, started to cry. Jasper, never one to resist a damsel in distress, leaped off the box and chased after the runaway bunny.\n",
      "\n",
      "He found the bunny hiding under a stall, nibbling on a juicy-looking strawberry. He gently nudged the bunny, his emerald eyes fixed on the girl who was now searching frantically. The bunny, startled, hopped out from under the stall and straight into the girl's arms.\n",
      "\n",
      "The girl, tears drying on her cheeks, hugged the bunny tight. She looked up and saw Jasper, her eyes widening in surprise. \"Thank you, kitty!\" she exclaimed, giving him a grateful pat. \n",
      "\n",
      "Jasper, basking in the girl's gratitude, purred contentedly. The girl, her smile as bright as the sun, gave Mr. Higgins a wave and hopped into her mother's car.\n",
      "\n",
      "As Mr. Higgins drove away, Jasper, snuggled back in his box, felt a warmth spread through him. He had had an adventure, saved a bunny, and made a new friend. He knew, as he settled back into his familiar routine, that there would always be something new to discover, even within the confines of his own garden. And that was enough for Jasper, the adventurous cat.\n",
      "\n"
     ]
    }
   ],
   "source": [
    "model = genai.GenerativeModel(\n",
    "    'gemini-1.5-flash-001',\n",
    "    generation_config=genai.GenerationConfig(\n",
    "        # These are the default values for gemini-1.5-flash-001.\n",
    "        temperature=1.0,\n",
    "        top_k=64,\n",
    "        top_p=0.95,\n",
    "    ))\n",
    "\n",
    "story_prompt = \"You are a creative writer. Write a short story about a cat who goes on an adventure.\"\n",
    "response = model.generate_content(story_prompt, request_options=retry_policy)\n",
    "print(response.text)"
   ]
  },
  {
   "cell_type": "markdown",
   "id": "2cf25a7f",
   "metadata": {
    "id": "rMrYs1koY6DX",
    "papermill": {
     "duration": 0.020151,
     "end_time": "2024-11-13T08:15:38.332109",
     "exception": false,
     "start_time": "2024-11-13T08:15:38.311958",
     "status": "completed"
    },
    "tags": []
   },
   "source": [
    "## Prompting\n",
    "\n",
    "This section contains some prompts from the chapter for you to try out directly in the API. Try changing the text here to see how each prompt performs with different instructions, more examples, or any other changes you can think of."
   ]
  },
  {
   "cell_type": "markdown",
   "id": "d8417d73",
   "metadata": {
    "id": "hhj_tQidZJP7",
    "papermill": {
     "duration": 0.020183,
     "end_time": "2024-11-13T08:15:38.372539",
     "exception": false,
     "start_time": "2024-11-13T08:15:38.352356",
     "status": "completed"
    },
    "tags": []
   },
   "source": [
    "### Zero-shot\n",
    "\n",
    "Zero-shot prompts are prompts that describe the request for the model directly.\n",
    "\n",
    "<table align=left>\n",
    "  <td>\n",
    "    <a target=\"_blank\" href=\"https://aistudio.google.com/prompts/1gzKKgDHwkAvexG5Up0LMtl1-6jKMKe4g\"><img src=\"https://ai.google.dev/site-assets/images/marketing/home/icon-ais.png\" style=\"height: 24px\" height=24/> Open in AI Studio</a>\n",
    "  </td>\n",
    "</table>"
   ]
  },
  {
   "cell_type": "code",
   "execution_count": 17,
   "id": "ebc53783",
   "metadata": {
    "execution": {
     "iopub.execute_input": "2024-11-13T08:15:38.415529Z",
     "iopub.status.busy": "2024-11-13T08:15:38.415045Z",
     "iopub.status.idle": "2024-11-13T08:15:41.438382Z",
     "shell.execute_reply": "2024-11-13T08:15:41.436955Z"
    },
    "id": "1_t-cwnDZzbH",
    "papermill": {
     "duration": 3.048101,
     "end_time": "2024-11-13T08:15:41.441024",
     "exception": false,
     "start_time": "2024-11-13T08:15:38.392923",
     "status": "completed"
    },
    "tags": []
   },
   "outputs": [
    {
     "name": "stdout",
     "output_type": "stream",
     "text": [
      "Sentiment: **POSITIVE**\n"
     ]
    }
   ],
   "source": [
    "model = genai.GenerativeModel(\n",
    "    'gemini-1.5-flash-001',\n",
    "    generation_config=genai.GenerationConfig(\n",
    "        temperature=0.1,\n",
    "        top_p=1,\n",
    "        max_output_tokens=5,\n",
    "    ))\n",
    "\n",
    "zero_shot_prompt = \"\"\"Classify movie reviews as POSITIVE, NEUTRAL or NEGATIVE.\n",
    "Review: \"Her\" is a disturbing study revealing the direction\n",
    "humanity is headed if AI is allowed to keep evolving,\n",
    "unchecked. I wish there were more movies like this masterpiece.\n",
    "Sentiment: \"\"\"\n",
    "\n",
    "response = model.generate_content(zero_shot_prompt, request_options=retry_policy)\n",
    "print(response.text)"
   ]
  },
  {
   "cell_type": "markdown",
   "id": "6787e2f1",
   "metadata": {
    "id": "3b5568bdeb11",
    "papermill": {
     "duration": 0.020071,
     "end_time": "2024-11-13T08:15:41.481483",
     "exception": false,
     "start_time": "2024-11-13T08:15:41.461412",
     "status": "completed"
    },
    "tags": []
   },
   "source": [
    "#### Enum mode\n",
    "\n",
    "The models are trained to generate text, and can sometimes produce more text than you may wish for. In the preceding example, the model will output the label, sometimes it can include a preceding \"Sentiment\" label, and without an output token limit, it may also add explanatory text afterwards.\n",
    "\n",
    "The Gemini API has an [Enum mode](https://github.com/google-gemini/cookbook/blob/main/quickstarts/Enum.ipynb) feature that allows you to constrain the output to a fixed set of values."
   ]
  },
  {
   "cell_type": "code",
   "execution_count": 18,
   "id": "261487e9",
   "metadata": {
    "execution": {
     "iopub.execute_input": "2024-11-13T08:15:41.524963Z",
     "iopub.status.busy": "2024-11-13T08:15:41.524086Z",
     "iopub.status.idle": "2024-11-13T08:15:44.804432Z",
     "shell.execute_reply": "2024-11-13T08:15:44.803238Z"
    },
    "id": "ad118a56c598",
    "papermill": {
     "duration": 3.304736,
     "end_time": "2024-11-13T08:15:44.807042",
     "exception": false,
     "start_time": "2024-11-13T08:15:41.502306",
     "status": "completed"
    },
    "tags": []
   },
   "outputs": [
    {
     "name": "stdout",
     "output_type": "stream",
     "text": [
      "positive\n"
     ]
    }
   ],
   "source": [
    "import enum\n",
    "\n",
    "class Sentiment(enum.Enum):\n",
    "    POSITIVE = \"positive\"\n",
    "    NEUTRAL = \"neutral\"\n",
    "    NEGATIVE = \"negative\"\n",
    "\n",
    "\n",
    "model = genai.GenerativeModel(\n",
    "    'gemini-1.5-flash-001',\n",
    "    generation_config=genai.GenerationConfig(\n",
    "        response_mime_type=\"text/x.enum\",\n",
    "        response_schema=Sentiment\n",
    "    ))\n",
    "\n",
    "response = model.generate_content(zero_shot_prompt, request_options=retry_policy)\n",
    "print(response.text)"
   ]
  },
  {
   "cell_type": "markdown",
   "id": "eea75c97",
   "metadata": {
    "id": "0udiSwNbv45W",
    "papermill": {
     "duration": 0.020445,
     "end_time": "2024-11-13T08:15:44.848178",
     "exception": false,
     "start_time": "2024-11-13T08:15:44.827733",
     "status": "completed"
    },
    "tags": []
   },
   "source": [
    "### One-shot and few-shot\n",
    "\n",
    "Providing an example of the expected response is known as a \"one-shot\" prompt. When you provide multiple examples, it is a \"few-shot\" prompt.\n",
    "\n",
    "<table align=left>\n",
    "  <td>\n",
    "    <a target=\"_blank\" href=\"https://aistudio.google.com/prompts/1jjWkjUSoMXmLvMJ7IzADr_GxHPJVV2bg\"><img src=\"https://ai.google.dev/site-assets/images/marketing/home/icon-ais.png\" style=\"height: 24px\" height=24/> Open in AI Studio</a>\n",
    "  </td>\n",
    "</table>\n"
   ]
  },
  {
   "cell_type": "code",
   "execution_count": 19,
   "id": "33b4915a",
   "metadata": {
    "execution": {
     "iopub.execute_input": "2024-11-13T08:15:44.891660Z",
     "iopub.status.busy": "2024-11-13T08:15:44.891197Z",
     "iopub.status.idle": "2024-11-13T08:15:45.262731Z",
     "shell.execute_reply": "2024-11-13T08:15:45.261224Z"
    },
    "id": "hd4mVUukwOKZ",
    "papermill": {
     "duration": 0.396361,
     "end_time": "2024-11-13T08:15:45.265556",
     "exception": false,
     "start_time": "2024-11-13T08:15:44.869195",
     "status": "completed"
    },
    "tags": []
   },
   "outputs": [
    {
     "name": "stdout",
     "output_type": "stream",
     "text": [
      "```json\n",
      "{\n",
      "\"size\": \"large\",\n",
      "\"type\": \"normal\",\n",
      "\"ingredients\": [\"cheese\", \"pineapple\"]\n",
      "}\n",
      "``` \n",
      "\n"
     ]
    }
   ],
   "source": [
    "model = genai.GenerativeModel(\n",
    "    'gemini-1.5-flash-latest',\n",
    "    generation_config=genai.GenerationConfig(\n",
    "        temperature=0.1,\n",
    "        top_p=1,\n",
    "        max_output_tokens=250,\n",
    "    ))\n",
    "\n",
    "few_shot_prompt = \"\"\"Parse a customer's pizza order into valid JSON:\n",
    "\n",
    "EXAMPLE:\n",
    "I want a small pizza with cheese, tomato sauce, and pepperoni.\n",
    "JSON Response:\n",
    "```\n",
    "{\n",
    "\"size\": \"small\",\n",
    "\"type\": \"normal\",\n",
    "\"ingredients\": [\"cheese\", \"tomato sauce\", \"peperoni\"]\n",
    "}\n",
    "```\n",
    "\n",
    "EXAMPLE:\n",
    "Can I get a large pizza with tomato sauce, basil and mozzarella\n",
    "JSON Response:\n",
    "```\n",
    "{\n",
    "\"size\": \"large\",\n",
    "\"type\": \"normal\",\n",
    "\"ingredients\": [\"tomato sauce\", \"basil\", \"mozzarella\"]\n",
    "}\n",
    "\n",
    "ORDER:\n",
    "\"\"\"\n",
    "\n",
    "customer_order = \"Give me a large with cheese & pineapple\"\n",
    "\n",
    "\n",
    "response = model.generate_content([few_shot_prompt, customer_order], request_options=retry_policy)\n",
    "print(response.text)"
   ]
  },
  {
   "cell_type": "markdown",
   "id": "053841ff",
   "metadata": {
    "id": "021293096f08",
    "papermill": {
     "duration": 0.020894,
     "end_time": "2024-11-13T08:15:45.308273",
     "exception": false,
     "start_time": "2024-11-13T08:15:45.287379",
     "status": "completed"
    },
    "tags": []
   },
   "source": [
    "#### JSON mode\n",
    "\n",
    "To provide control over the schema, and to ensure that you only receive JSON (with no other text or markdown), you can use the Gemini API's [JSON mode](https://github.com/google-gemini/cookbook/blob/main/quickstarts/JSON_mode.ipynb). This forces the model to constrain decoding, such that token selection is guided by the supplied schema."
   ]
  },
  {
   "cell_type": "code",
   "execution_count": 20,
   "id": "3e9e9c60",
   "metadata": {
    "execution": {
     "iopub.execute_input": "2024-11-13T08:15:45.353082Z",
     "iopub.status.busy": "2024-11-13T08:15:45.352282Z",
     "iopub.status.idle": "2024-11-13T08:15:45.841755Z",
     "shell.execute_reply": "2024-11-13T08:15:45.840260Z"
    },
    "id": "50fbf0260912",
    "papermill": {
     "duration": 0.514337,
     "end_time": "2024-11-13T08:15:45.844299",
     "exception": false,
     "start_time": "2024-11-13T08:15:45.329962",
     "status": "completed"
    },
    "tags": []
   },
   "outputs": [
    {
     "name": "stdout",
     "output_type": "stream",
     "text": [
      "{\"ingredients\": [\"apple\", \"chocolate\"], \"size\": \"large\", \"type\": \"dessert\"}\n",
      "\n"
     ]
    }
   ],
   "source": [
    "import typing_extensions as typing\n",
    "\n",
    "class PizzaOrder(typing.TypedDict):\n",
    "    size: str\n",
    "    ingredients: list[str]\n",
    "    type: str\n",
    "\n",
    "\n",
    "model = genai.GenerativeModel(\n",
    "    'gemini-1.5-flash-latest',\n",
    "    generation_config=genai.GenerationConfig(\n",
    "        temperature=0.1,\n",
    "        response_mime_type=\"application/json\",\n",
    "        response_schema=PizzaOrder,\n",
    "    ))\n",
    "\n",
    "response = model.generate_content(\"Can I have a large dessert pizza with apple and chocolate\")\n",
    "print(response.text)"
   ]
  },
  {
   "cell_type": "markdown",
   "id": "f7ddbebd",
   "metadata": {
    "id": "4a93e338e57c",
    "papermill": {
     "duration": 0.022981,
     "end_time": "2024-11-13T08:15:45.889467",
     "exception": false,
     "start_time": "2024-11-13T08:15:45.866486",
     "status": "completed"
    },
    "tags": []
   },
   "source": [
    "### Chain of Thought (CoT)\n",
    "\n",
    "Direct prompting on LLMs can return answers quickly and (in terms of output token usage) efficiently, but they can be prone to hallucination. The answer may \"look\" correct (in terms of language and syntax) but is incorrect in terms of factuality and reasoning.\n",
    "\n",
    "Chain-of-Thought prompting is a technique where you instruct the model to output intermediate reasoning steps, and it typically gets better results, especially when combined with few-shot examples. It is worth noting that this technique doesn't completely eliminate hallucinations, and that it tends to cost more to run, due to the increased token count.\n",
    "\n",
    "As models like the Gemini family are trained to be \"chatty\" and provide reasoning steps, you can ask the model to be more direct in the prompt."
   ]
  },
  {
   "cell_type": "code",
   "execution_count": 21,
   "id": "2ad229c4",
   "metadata": {
    "execution": {
     "iopub.execute_input": "2024-11-13T08:15:45.934623Z",
     "iopub.status.busy": "2024-11-13T08:15:45.934109Z",
     "iopub.status.idle": "2024-11-13T08:15:46.541413Z",
     "shell.execute_reply": "2024-11-13T08:15:46.539975Z"
    },
    "id": "5715555db1c1",
    "papermill": {
     "duration": 0.634122,
     "end_time": "2024-11-13T08:15:46.544802",
     "exception": false,
     "start_time": "2024-11-13T08:15:45.910680",
     "status": "completed"
    },
    "tags": []
   },
   "outputs": [
    {
     "name": "stdout",
     "output_type": "stream",
     "text": [
      "Here's how to solve this:\n",
      "\n",
      "* **When you were 4, your partner was 3 times your age:** 4 * 3 = 12 years old.\n",
      "* **The age difference between you and your partner is:** 12 - 4 = 8 years.\n",
      "* **Since the age difference remains the same, your partner is now:** 20 + 8 = **28 years old**. \n",
      "\n"
     ]
    }
   ],
   "source": [
    "prompt = \"\"\"When I was 4 years old, my partner was 3 times my age. Now, I\n",
    "am 20 years old. How old is my partner? Return the answer immediately.\"\"\"\n",
    "\n",
    "model = genai.GenerativeModel('gemini-1.5-flash-latest')\n",
    "response = model.generate_content(prompt, request_options=retry_policy)\n",
    "\n",
    "print(response.text)"
   ]
  },
  {
   "cell_type": "markdown",
   "id": "0ed39ceb",
   "metadata": {
    "id": "e12b19677bfd",
    "papermill": {
     "duration": 0.020559,
     "end_time": "2024-11-13T08:15:46.587030",
     "exception": false,
     "start_time": "2024-11-13T08:15:46.566471",
     "status": "completed"
    },
    "tags": []
   },
   "source": [
    "Now try the same approach, but indicate to the model that it should \"think step by step\"."
   ]
  },
  {
   "cell_type": "code",
   "execution_count": 22,
   "id": "c6b46e7f",
   "metadata": {
    "execution": {
     "iopub.execute_input": "2024-11-13T08:15:46.632251Z",
     "iopub.status.busy": "2024-11-13T08:15:46.631760Z",
     "iopub.status.idle": "2024-11-13T08:15:47.487699Z",
     "shell.execute_reply": "2024-11-13T08:15:47.486249Z"
    },
    "id": "ffd7536a481f",
    "papermill": {
     "duration": 0.88282,
     "end_time": "2024-11-13T08:15:47.490933",
     "exception": false,
     "start_time": "2024-11-13T08:15:46.608113",
     "status": "completed"
    },
    "tags": []
   },
   "outputs": [
    {
     "name": "stdout",
     "output_type": "stream",
     "text": [
      "Here's how to solve this:\n",
      "\n",
      "* **When you were 4:** Your partner was 3 times your age, which is 4 * 3 = 12 years old.\n",
      "* **Age difference:** Your partner was 12 - 4 = 8 years older than you.\n",
      "* **Age difference remains the same:**  Since the age difference stays constant, your partner is still 8 years older than you.\n",
      "* **Partner's current age:**  You are now 20, so your partner is 20 + 8 = **28 years old**. \n",
      "\n"
     ]
    }
   ],
   "source": [
    "prompt = \"\"\"When I was 4 years old, my partner was 3 times my age. Now,\n",
    "I am 20 years old. How old is my partner? Let's think step by step.\"\"\"\n",
    "\n",
    "response = model.generate_content(prompt, request_options=retry_policy)\n",
    "print(response.text)"
   ]
  },
  {
   "cell_type": "markdown",
   "id": "eeec7302",
   "metadata": {
    "id": "oiLgBQJj0V53",
    "papermill": {
     "duration": 0.020903,
     "end_time": "2024-11-13T08:15:47.533332",
     "exception": false,
     "start_time": "2024-11-13T08:15:47.512429",
     "status": "completed"
    },
    "tags": []
   },
   "source": [
    "### ReAct: Reason and act\n",
    "\n",
    "In this example you will run a ReAct prompt directly in the Gemini API and perform the searching steps yourself. As this prompt follows a well-defined structure, there are frameworks available that wrap the prompt into easier-to-use APIs that make tool calls automatically, such as the LangChain example from the chapter.\n",
    "\n",
    "To try this out with the Wikipedia search engine, check out the [Searching Wikipedia with ReAct](https://github.com/google-gemini/cookbook/blob/main/examples/Search_Wikipedia_using_ReAct.ipynb) cookbook example.\n",
    "\n",
    "\n",
    "> Note: The prompt and in-context examples used here are from [https://github.com/ysymyth/ReAct](https://github.com/ysymyth/ReAct) which is published under a [MIT license](https://opensource.org/licenses/MIT), Copyright (c) 2023 Shunyu Yao.\n",
    "\n",
    "<table align=left>\n",
    "  <td>\n",
    "    <a target=\"_blank\" href=\"https://aistudio.google.com/prompts/18oo63Lwosd-bQ6Ay51uGogB3Wk3H8XMO\"><img src=\"https://ai.google.dev/site-assets/images/marketing/home/icon-ais.png\" style=\"height: 24px\" height=24/> Open in AI Studio</a>\n",
    "  </td>\n",
    "</table>\n"
   ]
  },
  {
   "cell_type": "code",
   "execution_count": 23,
   "id": "6abe15ba",
   "metadata": {
    "execution": {
     "iopub.execute_input": "2024-11-13T08:15:47.577513Z",
     "iopub.status.busy": "2024-11-13T08:15:47.577035Z",
     "iopub.status.idle": "2024-11-13T08:15:47.586367Z",
     "shell.execute_reply": "2024-11-13T08:15:47.585105Z"
    },
    "id": "cBgyNJ5z0VSs",
    "papermill": {
     "duration": 0.034705,
     "end_time": "2024-11-13T08:15:47.589179",
     "exception": false,
     "start_time": "2024-11-13T08:15:47.554474",
     "status": "completed"
    },
    "tags": []
   },
   "outputs": [],
   "source": [
    "model_instructions = \"\"\"\n",
    "Solve a question answering task with interleaving Thought, Action, Observation steps. Thought can reason about the current situation,\n",
    "Observation is understanding relevant information from an Action's output and Action can be one of three types:\n",
    " (1) <search>entity</search>, which searches the exact entity on Wikipedia and returns the first paragraph if it exists. If not, it\n",
    "     will return some similar entities to search and you can try to search the information from those topics.\n",
    " (2) <lookup>keyword</lookup>, which returns the next sentence containing keyword in the current context. This only does exact matches,\n",
    "     so keep your searches short.\n",
    " (3) <finish>answer</finish>, which returns the answer and finishes the task.\n",
    "\"\"\"\n",
    "\n",
    "example1 = \"\"\"Question\n",
    "Musician and satirist Allie Goertz wrote a song about the \"The Simpsons\" character Milhouse, who Matt Groening named after who?\n",
    "\n",
    "Thought 1\n",
    "The question simplifies to \"The Simpsons\" character Milhouse is named after who. I only need to search Milhouse and find who it is named after.\n",
    "\n",
    "Action 1\n",
    "<search>Milhouse</search>\n",
    "\n",
    "Observation 1\n",
    "Milhouse Mussolini Van Houten is a recurring character in the Fox animated television series The Simpsons voiced by Pamela Hayden and created by Matt Groening.\n",
    "\n",
    "Thought 2\n",
    "The paragraph does not tell who Milhouse is named after, maybe I can look up \"named after\".\n",
    "\n",
    "Action 2\n",
    "<lookup>named after</lookup>\n",
    "\n",
    "Observation 2\n",
    "Milhouse was named after U.S. president Richard Nixon, whose middle name was Milhous.\n",
    "\n",
    "Thought 3\n",
    "Milhouse was named after U.S. president Richard Nixon, so the answer is Richard Nixon.\n",
    "\n",
    "Action 3\n",
    "<finish>Richard Nixon</finish>\n",
    "\"\"\"\n",
    "\n",
    "example2 = \"\"\"Question\n",
    "What is the elevation range for the area that the eastern sector of the Colorado orogeny extends into?\n",
    "\n",
    "Thought 1\n",
    "I need to search Colorado orogeny, find the area that the eastern sector of the Colorado orogeny extends into, then find the elevation range of the area.\n",
    "\n",
    "Action 1\n",
    "<search>Colorado orogeny</search>\n",
    "\n",
    "Observation 1\n",
    "The Colorado orogeny was an episode of mountain building (an orogeny) in Colorado and surrounding areas.\n",
    "\n",
    "Thought 2\n",
    "It does not mention the eastern sector. So I need to look up eastern sector.\n",
    "\n",
    "Action 2\n",
    "<lookup>eastern sector</lookup>\n",
    "\n",
    "Observation 2\n",
    "The eastern sector extends into the High Plains and is called the Central Plains orogeny.\n",
    "\n",
    "Thought 3\n",
    "The eastern sector of Colorado orogeny extends into the High Plains. So I need to search High Plains and find its elevation range.\n",
    "\n",
    "Action 3\n",
    "<search>High Plains</search>\n",
    "\n",
    "Observation 3\n",
    "High Plains refers to one of two distinct land regions\n",
    "\n",
    "Thought 4\n",
    "I need to instead search High Plains (United States).\n",
    "\n",
    "Action 4\n",
    "<search>High Plains (United States)</search>\n",
    "\n",
    "Observation 4\n",
    "The High Plains are a subregion of the Great Plains. From east to west, the High Plains rise in elevation from around 1,800 to 7,000 ft (550 to 2,130m).\n",
    "\n",
    "Thought 5\n",
    "High Plains rise in elevation from around 1,800 to 7,000 ft, so the answer is 1,800 to 7,000 ft.\n",
    "\n",
    "Action 5\n",
    "<finish>1,800 to 7,000 ft</finish>\n",
    "\"\"\"\n",
    "\n",
    "# Come up with more examples yourself, or take a look through https://github.com/ysymyth/ReAct/"
   ]
  },
  {
   "cell_type": "markdown",
   "id": "6bb6883b",
   "metadata": {
    "id": "C3wbfstjTgey",
    "papermill": {
     "duration": 0.021431,
     "end_time": "2024-11-13T08:15:47.632197",
     "exception": false,
     "start_time": "2024-11-13T08:15:47.610766",
     "status": "completed"
    },
    "tags": []
   },
   "source": [
    "To capture a single step at a time, while ignoring any hallucinated Observation steps, you will use `stop_sequences` to end the generation process. The steps are `Thought`, `Action`, `Observation`, in that order."
   ]
  },
  {
   "cell_type": "code",
   "execution_count": 24,
   "id": "131b68b1",
   "metadata": {
    "execution": {
     "iopub.execute_input": "2024-11-13T08:15:47.678036Z",
     "iopub.status.busy": "2024-11-13T08:15:47.677550Z",
     "iopub.status.idle": "2024-11-13T08:15:49.315844Z",
     "shell.execute_reply": "2024-11-13T08:15:49.314269Z"
    },
    "id": "8mxrXRkRTdXm",
    "papermill": {
     "duration": 1.664114,
     "end_time": "2024-11-13T08:15:49.318625",
     "exception": false,
     "start_time": "2024-11-13T08:15:47.654511",
     "status": "completed"
    },
    "tags": []
   },
   "outputs": [
    {
     "name": "stdout",
     "output_type": "stream",
     "text": [
      "Thought 1\n",
      "I need to find the Transformers NLP paper and find the youngest author listed. I can search for \"Transformers NLP paper\" and get the information from the paper.\n",
      "\n",
      "Action 1\n",
      "<search>Transformers NLP paper</search>\n",
      "\n"
     ]
    }
   ],
   "source": [
    "question = \"\"\"Question\n",
    "Who was the youngest author listed on the transformers NLP paper?\n",
    "\"\"\"\n",
    "\n",
    "model = genai.GenerativeModel('gemini-1.5-flash-latest')\n",
    "react_chat = model.start_chat()\n",
    "\n",
    "# You will perform the Action, so generate up to, but not including, the Observation.\n",
    "config = genai.GenerationConfig(stop_sequences=[\"\\nObservation\"])\n",
    "\n",
    "resp = react_chat.send_message(\n",
    "    [model_instructions, example1, example2, question],\n",
    "    generation_config=config,\n",
    "    request_options=retry_policy)\n",
    "print(resp.text)"
   ]
  },
  {
   "cell_type": "markdown",
   "id": "b9549bf0",
   "metadata": {
    "id": "aW2PIdLbVv3l",
    "papermill": {
     "duration": 0.021819,
     "end_time": "2024-11-13T08:15:49.362800",
     "exception": false,
     "start_time": "2024-11-13T08:15:49.340981",
     "status": "completed"
    },
    "tags": []
   },
   "source": [
    "Now you can perform this research yourself and supply it back to the model."
   ]
  },
  {
   "cell_type": "code",
   "execution_count": 25,
   "id": "cecda803",
   "metadata": {
    "execution": {
     "iopub.execute_input": "2024-11-13T08:15:49.408399Z",
     "iopub.status.busy": "2024-11-13T08:15:49.407904Z",
     "iopub.status.idle": "2024-11-13T08:15:50.001108Z",
     "shell.execute_reply": "2024-11-13T08:15:49.999676Z"
    },
    "id": "mLMc0DZaV9g2",
    "papermill": {
     "duration": 0.61919,
     "end_time": "2024-11-13T08:15:50.003711",
     "exception": false,
     "start_time": "2024-11-13T08:15:49.384521",
     "status": "completed"
    },
    "tags": []
   },
   "outputs": [
    {
     "name": "stdout",
     "output_type": "stream",
     "text": [
      "Thought 2\n",
      "The observation shows the authors of the paper, but it doesn't tell us who the youngest is. I can search for each of the authors individually to find their ages.\n",
      "\n",
      "Action 2\n",
      "<search>Ashish Vaswani</search> \n",
      "\n"
     ]
    }
   ],
   "source": [
    "observation = \"\"\"Observation 1\n",
    "[1706.03762] Attention Is All You Need\n",
    "Ashish Vaswani, Noam Shazeer, Niki Parmar, Jakob Uszkoreit, Llion Jones, Aidan N. Gomez, Lukasz Kaiser, Illia Polosukhin\n",
    "We propose a new simple network architecture, the Transformer, based solely on attention mechanisms, dispensing with recurrence and convolutions entirely.\n",
    "\"\"\"\n",
    "resp = react_chat.send_message(observation, generation_config=config, request_options=retry_policy)\n",
    "print(resp.text)"
   ]
  },
  {
   "cell_type": "markdown",
   "id": "d83b9e6d",
   "metadata": {
    "id": "bo0tzf4nX6dA",
    "papermill": {
     "duration": 0.022101,
     "end_time": "2024-11-13T08:15:50.048243",
     "exception": false,
     "start_time": "2024-11-13T08:15:50.026142",
     "status": "completed"
    },
    "tags": []
   },
   "source": [
    "This process repeats until the `<finish>` action is reached. You can continue running this yourself if you like, or try the [Wikipedia example](https://github.com/google-gemini/cookbook/blob/main/examples/Search_Wikipedia_using_ReAct.ipynb) to see a fully automated ReAct system at work."
   ]
  },
  {
   "cell_type": "markdown",
   "id": "09b197f6",
   "metadata": {
    "id": "jPiZ_eIIaVPt",
    "papermill": {
     "duration": 0.021418,
     "end_time": "2024-11-13T08:15:50.091391",
     "exception": false,
     "start_time": "2024-11-13T08:15:50.069973",
     "status": "completed"
    },
    "tags": []
   },
   "source": [
    "## Code prompting"
   ]
  },
  {
   "cell_type": "markdown",
   "id": "d15daf3b",
   "metadata": {
    "id": "ZinKamwXeR6C",
    "papermill": {
     "duration": 0.021351,
     "end_time": "2024-11-13T08:15:50.134330",
     "exception": false,
     "start_time": "2024-11-13T08:15:50.112979",
     "status": "completed"
    },
    "tags": []
   },
   "source": [
    "### Generating code\n",
    "\n",
    "The Gemini family of models can be used to generate code, configuration and scripts. Generating code can be helpful when learning to code, learning a new language or for rapidly generating a first draft.\n",
    "\n",
    "It's important to be aware that since LLMs can't reason, and can repeat training data, it's essential to read and test your code first, and comply with any relevant licenses.\n",
    "\n",
    "<table align=left>\n",
    "  <td>\n",
    "    <a target=\"_blank\" href=\"https://aistudio.google.com/prompts/1YX71JGtzDjXQkgdes8bP6i3oH5lCRKxv\"><img src=\"https://ai.google.dev/site-assets/images/marketing/home/icon-ais.png\" style=\"height: 24px\" height=24/> Open in AI Studio</a>\n",
    "  </td>\n",
    "</table>"
   ]
  },
  {
   "cell_type": "code",
   "execution_count": 26,
   "id": "9f652dad",
   "metadata": {
    "execution": {
     "iopub.execute_input": "2024-11-13T08:15:50.179670Z",
     "iopub.status.busy": "2024-11-13T08:15:50.179209Z",
     "iopub.status.idle": "2024-11-13T08:15:50.698690Z",
     "shell.execute_reply": "2024-11-13T08:15:50.697486Z"
    },
    "id": "fOQP9pqmeUO1",
    "papermill": {
     "duration": 0.545431,
     "end_time": "2024-11-13T08:15:50.701381",
     "exception": false,
     "start_time": "2024-11-13T08:15:50.155950",
     "status": "completed"
    },
    "tags": []
   },
   "outputs": [
    {
     "data": {
      "text/markdown": [
       "```python\n",
       "def factorial(n):\n",
       "  if n == 0:\n",
       "    return 1\n",
       "  else:\n",
       "    return n * factorial(n-1)\n",
       "```"
      ],
      "text/plain": [
       "<IPython.core.display.Markdown object>"
      ]
     },
     "execution_count": 26,
     "metadata": {},
     "output_type": "execute_result"
    }
   ],
   "source": [
    "model = genai.GenerativeModel(\n",
    "    'gemini-1.5-flash-latest',\n",
    "    generation_config=genai.GenerationConfig(\n",
    "        temperature=1,\n",
    "        top_p=1,\n",
    "        max_output_tokens=1024,\n",
    "    ))\n",
    "\n",
    "# Gemini 1.5 models are very chatty, so it helps to specify they stick to the code.\n",
    "code_prompt = \"\"\"\n",
    "Write a Python function to calculate the factorial of a number. No explanation, provide only the code.\n",
    "\"\"\"\n",
    "\n",
    "response = model.generate_content(code_prompt, request_options=retry_policy)\n",
    "Markdown(response.text)"
   ]
  },
  {
   "cell_type": "markdown",
   "id": "3ed10703",
   "metadata": {
    "id": "wlBMWSFhgVRQ",
    "papermill": {
     "duration": 0.021554,
     "end_time": "2024-11-13T08:15:50.745519",
     "exception": false,
     "start_time": "2024-11-13T08:15:50.723965",
     "status": "completed"
    },
    "tags": []
   },
   "source": [
    "### Code execution\n",
    "\n",
    "The Gemini API can automatically run generated code too, and will return the output.\n",
    "\n",
    "<table align=left>\n",
    "  <td>\n",
    "    <a target=\"_blank\" href=\"https://aistudio.google.com/prompts/11veFr_VYEwBWcLkhNLr-maCG0G8sS_7Z\"><img src=\"https://ai.google.dev/site-assets/images/marketing/home/icon-ais.png\" style=\"height: 24px\" height=24/> Open in AI Studio</a>\n",
    "  </td>\n",
    "</table>"
   ]
  },
  {
   "cell_type": "code",
   "execution_count": 27,
   "id": "8a656797",
   "metadata": {
    "execution": {
     "iopub.execute_input": "2024-11-13T08:15:50.792038Z",
     "iopub.status.busy": "2024-11-13T08:15:50.791610Z",
     "iopub.status.idle": "2024-11-13T08:15:52.025434Z",
     "shell.execute_reply": "2024-11-13T08:15:52.024170Z"
    },
    "id": "jT3OfWYfhjRL",
    "papermill": {
     "duration": 1.260695,
     "end_time": "2024-11-13T08:15:52.028165",
     "exception": false,
     "start_time": "2024-11-13T08:15:50.767470",
     "status": "completed"
    },
    "tags": []
   },
   "outputs": [
    {
     "data": {
      "text/markdown": [
       "I will calculate the sum of the first 14 odd prime numbers. \n",
       "\n",
       "Here are the first 14 odd primes:\n",
       "\n",
       "2, 3, 5, 7, 11, 13, 17, 19, 23, 29, 31, 37, 41, 43\n",
       "\n",
       "\n",
       "``` python\n",
       "primes = [2, 3, 5, 7, 11, 13, 17, 19, 23, 29, 31, 37, 41, 43]\n",
       "sum_primes = sum(primes)\n",
       "print(f'The sum of the first 14 odd primes is: {sum_primes}')\n",
       "\n",
       "```\n",
       "```\n",
       "The sum of the first 14 odd primes is: 281\n",
       "\n",
       "```\n",
       "The sum of the first 14 odd primes is 281. \n"
      ],
      "text/plain": [
       "<IPython.core.display.Markdown object>"
      ]
     },
     "execution_count": 27,
     "metadata": {},
     "output_type": "execute_result"
    }
   ],
   "source": [
    "model = genai.GenerativeModel(\n",
    "    'gemini-1.5-flash-latest',\n",
    "    tools='code_execution',)\n",
    "\n",
    "code_exec_prompt = \"\"\"\n",
    "Calculate the sum of the first 14 prime numbers. Only consider the odd primes, and make sure you count them all.\n",
    "\"\"\"\n",
    "\n",
    "response = model.generate_content(code_exec_prompt, request_options=retry_policy)\n",
    "Markdown(response.text)"
   ]
  },
  {
   "cell_type": "markdown",
   "id": "c1ba188e",
   "metadata": {
    "id": "ZspT1GSkjG6d",
    "papermill": {
     "duration": 0.022595,
     "end_time": "2024-11-13T08:15:52.073376",
     "exception": false,
     "start_time": "2024-11-13T08:15:52.050781",
     "status": "completed"
    },
    "tags": []
   },
   "source": [
    "While this looks like a single-part response, you can inspect the response to see the each of the steps: initial text, code generation, execution results, and final text summary."
   ]
  },
  {
   "cell_type": "code",
   "execution_count": 28,
   "id": "079fe0a8",
   "metadata": {
    "execution": {
     "iopub.execute_input": "2024-11-13T08:15:52.119884Z",
     "iopub.status.busy": "2024-11-13T08:15:52.119452Z",
     "iopub.status.idle": "2024-11-13T08:15:52.125961Z",
     "shell.execute_reply": "2024-11-13T08:15:52.124811Z"
    },
    "id": "j4gQVzcRjRX-",
    "papermill": {
     "duration": 0.032693,
     "end_time": "2024-11-13T08:15:52.128478",
     "exception": false,
     "start_time": "2024-11-13T08:15:52.095785",
     "status": "completed"
    },
    "tags": []
   },
   "outputs": [
    {
     "name": "stdout",
     "output_type": "stream",
     "text": [
      "text: \"I will calculate the sum of the first 14 odd prime numbers. \\n\\nHere are the first 14 odd primes:\\n\\n2, 3, 5, 7, 11, 13, 17, 19, 23, 29, 31, 37, 41, 43\\n\\n\"\n",
      "\n",
      "-----\n",
      "executable_code {\n",
      "  language: PYTHON\n",
      "  code: \"\\nprimes = [2, 3, 5, 7, 11, 13, 17, 19, 23, 29, 31, 37, 41, 43]\\nsum_primes = sum(primes)\\nprint(f\\'The sum of the first 14 odd primes is: {sum_primes}\\')\\n\"\n",
      "}\n",
      "\n",
      "-----\n",
      "code_execution_result {\n",
      "  outcome: OUTCOME_OK\n",
      "  output: \"The sum of the first 14 odd primes is: 281\\n\"\n",
      "}\n",
      "\n",
      "-----\n",
      "text: \"The sum of the first 14 odd primes is 281. \\n\"\n",
      "\n",
      "-----\n"
     ]
    }
   ],
   "source": [
    "for part in response.candidates[0].content.parts:\n",
    "  print(part)\n",
    "  print(\"-----\")"
   ]
  },
  {
   "cell_type": "markdown",
   "id": "23e6e992",
   "metadata": {
    "id": "1gUX8QzCj4d5",
    "papermill": {
     "duration": 0.021975,
     "end_time": "2024-11-13T08:15:52.172845",
     "exception": false,
     "start_time": "2024-11-13T08:15:52.150870",
     "status": "completed"
    },
    "tags": []
   },
   "source": [
    "### Explaining code\n",
    "\n",
    "The Gemini family of models can explain code to you too.\n",
    "\n",
    "<table align=left>\n",
    "  <td>\n",
    "    <a target=\"_blank\" href=\"https://aistudio.google.com/prompts/1N7LGzWzCYieyOf_7bAG4plrmkpDNmUyb\"><img src=\"https://ai.google.dev/site-assets/images/marketing/home/icon-ais.png\" style=\"height: 24px\" height=24/> Open in AI Studio</a>\n",
    "  </td>\n",
    "</table>"
   ]
  },
  {
   "cell_type": "code",
   "execution_count": 29,
   "id": "78b39b7f",
   "metadata": {
    "execution": {
     "iopub.execute_input": "2024-11-13T08:15:52.219848Z",
     "iopub.status.busy": "2024-11-13T08:15:52.219390Z",
     "iopub.status.idle": "2024-11-13T08:15:54.217333Z",
     "shell.execute_reply": "2024-11-13T08:15:54.216160Z"
    },
    "id": "7_jPMMoxkIEb",
    "papermill": {
     "duration": 2.024582,
     "end_time": "2024-11-13T08:15:54.219998",
     "exception": false,
     "start_time": "2024-11-13T08:15:52.195416",
     "status": "completed"
    },
    "tags": []
   },
   "outputs": [
    {
     "data": {
      "text/markdown": [
       "This file is a Bash script that provides a powerful and customizable Git prompt for your terminal. It enhances your command line by displaying information about the current Git repository, including branch name, status, and upstream tracking information.\n",
       "\n",
       "Here's why you would use it:\n",
       "\n",
       "* **Enhanced Git Awareness:**  The script provides a visual indicator of your Git repository status, making it easier to see where you are in your workflow.\n",
       "* **Customizability:** You can customize the prompt's appearance with a wide range of options for colors, symbols, and information displayed.\n",
       "* **Remote Tracking:** It fetches remote changes periodically, allowing you to see upstream changes and track progress.\n",
       "* **Integration with Virtual Environments:** The script integrates with popular virtual environments like Virtualenv, Node.js, and Conda to display their activation status.\n",
       "* **Bash Compatibility:** The script is designed to work with both Bash and Zsh.\n",
       "\n",
       "Essentially, this script transforms your terminal into a more informative and interactive Git development environment. \n"
      ],
      "text/plain": [
       "<IPython.core.display.Markdown object>"
      ]
     },
     "execution_count": 29,
     "metadata": {},
     "output_type": "execute_result"
    }
   ],
   "source": [
    "file_contents = !curl https://raw.githubusercontent.com/magicmonty/bash-git-prompt/refs/heads/master/gitprompt.sh\n",
    "\n",
    "explain_prompt = f\"\"\"\n",
    "Please explain what this file does at a very high level. What is it, and why would I use it?\n",
    "\n",
    "```\n",
    "{file_contents}\n",
    "```\n",
    "\"\"\"\n",
    "\n",
    "model = genai.GenerativeModel('gemini-1.5-flash-latest')\n",
    "\n",
    "response = model.generate_content(explain_prompt, request_options=retry_policy)\n",
    "Markdown(response.text)"
   ]
  },
  {
   "cell_type": "markdown",
   "id": "928ec731",
   "metadata": {
    "id": "2a8266d97ce5",
    "papermill": {
     "duration": 0.023173,
     "end_time": "2024-11-13T08:15:54.266219",
     "exception": false,
     "start_time": "2024-11-13T08:15:54.243046",
     "status": "completed"
    },
    "tags": []
   },
   "source": [
    "## Learn more\n",
    "\n",
    "To learn more about prompting in depth:\n",
    "\n",
    "* Check out the whitepaper issued with today's content,\n",
    "* Try out the apps listed at the top of this notebook ([TextFX](https://textfx.withgoogle.com/), [SQL Talk](https://sql-talk-r5gdynozbq-uc.a.run.app/) and [NotebookLM](https://notebooklm.google/)),\n",
    "* Read the [Introduction to Prompting](https://ai.google.dev/gemini-api/docs/prompting-intro) from the Gemini API docs,\n",
    "* Explore the Gemini API's [prompt gallery](https://ai.google.dev/gemini-api/prompts) and try them out in AI Studio,\n",
    "* Check out the Gemini API cookbook for [inspirational examples](https://github.com/google-gemini/cookbook/blob/main/examples/) and [educational quickstarts](https://github.com/google-gemini/cookbook/blob/main/quickstarts/).\n",
    "\n",
    "And please share anything exciting you have tried in the Discord!"
   ]
  }
 ],
 "metadata": {
  "colab": {
   "name": "day-1-prompting.ipynb",
   "toc_visible": true
  },
  "kaggle": {
   "accelerator": "none",
   "dataSources": [],
   "dockerImageVersionId": 30786,
   "isGpuEnabled": false,
   "isInternetEnabled": true,
   "language": "python",
   "sourceType": "notebook"
  },
  "kernelspec": {
   "display_name": "Python 3",
   "language": "python",
   "name": "python3"
  },
  "language_info": {
   "codemirror_mode": {
    "name": "ipython",
    "version": 3
   },
   "file_extension": ".py",
   "mimetype": "text/x-python",
   "name": "python",
   "nbconvert_exporter": "python",
   "pygments_lexer": "ipython3",
   "version": "3.10.14"
  },
  "papermill": {
   "default_parameters": {},
   "duration": 90.211276,
   "end_time": "2024-11-13T08:15:54.910747",
   "environment_variables": {},
   "exception": null,
   "input_path": "__notebook__.ipynb",
   "output_path": "__notebook__.ipynb",
   "parameters": {},
   "start_time": "2024-11-13T08:14:24.699471",
   "version": "2.6.0"
  }
 },
 "nbformat": 4,
 "nbformat_minor": 5
}
